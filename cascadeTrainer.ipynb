{
 "cells": [
  {
   "cell_type": "code",
   "execution_count": 2,
   "metadata": {
    "collapsed": true,
    "deletable": true,
    "editable": true
   },
   "outputs": [],
   "source": [
    "import cv2\n",
    "import matplotlib\n",
    "import numpy as np\n",
    "import os"
   ]
  },
  {
   "cell_type": "code",
   "execution_count": 3,
   "metadata": {
    "collapsed": true,
    "deletable": true,
    "editable": true
   },
   "outputs": [],
   "source": [
    "import pandas as pd"
   ]
  },
  {
   "cell_type": "code",
   "execution_count": 3,
   "metadata": {
    "collapsed": true,
    "deletable": true,
    "editable": true
   },
   "outputs": [],
   "source": [
    "data=pd.read_csv('Train.csv')"
   ]
  },
  {
   "cell_type": "code",
   "execution_count": 4,
   "metadata": {
    "collapsed": false,
    "deletable": true,
    "editable": true
   },
   "outputs": [],
   "source": [
    "cv2.destroyWindow('Image')"
   ]
  },
  {
   "cell_type": "code",
   "execution_count": 5,
   "metadata": {
    "collapsed": false,
    "deletable": true,
    "editable": true,
    "scrolled": true
   },
   "outputs": [],
   "source": [
    "#data"
   ]
  },
  {
   "cell_type": "code",
   "execution_count": 6,
   "metadata": {
    "collapsed": true,
    "deletable": true,
    "editable": true
   },
   "outputs": [],
   "source": [
    "def func(x):\n",
    "    print x"
   ]
  },
  {
   "cell_type": "code",
   "execution_count": 7,
   "metadata": {
    "collapsed": false,
    "deletable": true,
    "editable": true
   },
   "outputs": [
    {
     "data": {
      "text/plain": [
       "468"
      ]
     },
     "execution_count": 7,
     "metadata": {},
     "output_type": "execute_result"
    }
   ],
   "source": [
    "len(data)"
   ]
  },
  {
   "cell_type": "code",
   "execution_count": 64,
   "metadata": {
    "collapsed": false,
    "deletable": true,
    "editable": true
   },
   "outputs": [],
   "source": [
    "# i=1\n",
    "# img=cv2.imread('Train/'+data['Img_Name'][i])\n",
    "\n",
    "# y=int(data['Top'][i])\n",
    "# x=int(data['Left'][i])\n",
    "# h=int(data['Height'][i])\n",
    "# w=int(data['Width'][i])\n",
    "# cropimg=img[y:y+h,x:x+w]\n",
    "# img[y:y+h,x:x+w]=[0]\n",
    "# cv2.imshow('Image', img)\n",
    "# cv2.waitKey(0)\n",
    "# cv2.destroyAllWindows()"
   ]
  },
  {
   "cell_type": "code",
   "execution_count": 65,
   "metadata": {
    "collapsed": false,
    "deletable": true,
    "editable": true
   },
   "outputs": [],
   "source": [
    "# cv2.imwrite('pos/'+str(i)+'.jpg',cropimg)"
   ]
  },
  {
   "cell_type": "code",
   "execution_count": 66,
   "metadata": {
    "collapsed": false,
    "deletable": true,
    "editable": true
   },
   "outputs": [],
   "source": [
    "# for i in range(len(data)):\n",
    "#     img=cv2.imread('Train/'+data['Img_Name'][i])\n",
    "#     y=int(data['Top'][i])\n",
    "#     x=int(data['Left'][i])\n",
    "#     h=int(data['Height'][i])\n",
    "#     w=int(data['Width'][i])\n",
    "# #     cropimg=img[y:y+h,x:x+w]\n",
    "# #     cv2.imwrite('pos/'+str(i)+'.jpg',cropimg)\n",
    "#     img[y:y+h,x:x+w]=[0]\n",
    "#     cv2.imwrite('negs/'+str(i)+'.jpg',img)"
   ]
  },
  {
   "cell_type": "code",
   "execution_count": null,
   "metadata": {
    "collapsed": true,
    "deletable": true,
    "editable": true
   },
   "outputs": [],
   "source": []
  },
  {
   "cell_type": "code",
   "execution_count": 67,
   "metadata": {
    "collapsed": true,
    "deletable": true,
    "editable": true
   },
   "outputs": [],
   "source": [
    "# import os\n",
    "# path = '/home/ayush/mapmyindia/temp/NegativeDatasetStreets'\n",
    "# files = os.listdir(path)\n",
    "# i = 468\n",
    "\n",
    "# for file in files:\n",
    "#     os.rename(os.path.join(path, file), os.path.join(path, str(i)+'.jpg'))\n",
    "#     i = i+1"
   ]
  },
  {
   "cell_type": "code",
   "execution_count": 13,
   "metadata": {
    "collapsed": false,
    "deletable": true,
    "editable": true
   },
   "outputs": [],
   "source": [
    "# for i in range(528):\n",
    "#     try:\n",
    "#         img = cv2.imread(\"negs/\"+str(i)+\".jpg\",cv2.IMREAD_GRAYSCALE)\n",
    "#         resized_img = cv2.resize(img, (400, 250))\n",
    "#         cv2.imwrite('finalnegs/'+str(i)+'.jpg',resized_img)\n",
    "#     except:\n",
    "#         pass"
   ]
  },
  {
   "cell_type": "code",
   "execution_count": 14,
   "metadata": {
    "collapsed": false,
    "deletable": true,
    "editable": true
   },
   "outputs": [],
   "source": [
    "# for i in range(1,17):\n",
    "#     img = cv2.imread(\"50/\"+str(i)+\".png\")\n",
    "\n",
    "#     resized_img = cv2.resize(img, (50,50))\n",
    "#     # cv2.imshow('Image', resized_img)\n",
    "#     # cv2.waitKey(0)\n",
    "#     # cv2.destroyAllWindows()\n",
    "#     cv2.imwrite('50/'+str(i)+'final.png',resized_img)"
   ]
  },
  {
   "cell_type": "code",
   "execution_count": 53,
   "metadata": {
    "collapsed": false,
    "deletable": true,
    "editable": true
   },
   "outputs": [],
   "source": [
    "import sys, os\n",
    "file_type='finalnegs'\n",
    "for img in os.listdir('/home/ayush/new street/Street-Sign-Detection/Street-Sign-Detection/finalnegs'):\n",
    "    line = file_type+'/'+img+'\\n'\n",
    "    with open('bg.txt','a') as f:\n",
    "        f.write(line)"
   ]
  },
  {
   "cell_type": "code",
   "execution_count": 55,
   "metadata": {
    "collapsed": false,
    "deletable": true,
    "editable": true
   },
   "outputs": [],
   "source": [
    "#CREATE SAMPLES IMAGES\n",
    "\n",
    "import sys, os\n",
    "for i in range(1,14): \n",
    "    cmd=\"opencv_createsamples -img 50/\"+str(i)+\"final.png -bg bg.txt -info info/info\"+str(i)+\".lst -pngoutput info -bgcolor 0 -bgthresh 0 -maxxangle 0.5 -maxyangle 1.5 -maxzangle 0.5 -num 2000 -maxidev 40 -w 24 -h 24\"\n",
    "    os.system(cmd)"
   ]
  },
  {
   "cell_type": "code",
   "execution_count": null,
   "metadata": {
    "collapsed": true,
    "deletable": true,
    "editable": true
   },
   "outputs": [],
   "source": []
  },
  {
   "cell_type": "code",
   "execution_count": 56,
   "metadata": {
    "collapsed": false,
    "deletable": true,
    "editable": true
   },
   "outputs": [
    {
     "data": {
      "text/plain": [
       "0"
      ]
     },
     "execution_count": 56,
     "metadata": {},
     "output_type": "execute_result"
    }
   ],
   "source": [
    "# CREATE SAMPLES IMAGES\n",
    "\n",
    "import sys, os\n",
    "os.system('opencv_createsamples -info info/info.lst -num 13700 -w 24 -h 24 -vec positives.vec')"
   ]
  },
  {
   "cell_type": "code",
   "execution_count": null,
   "metadata": {
    "collapsed": true,
    "deletable": true,
    "editable": true
   },
   "outputs": [],
   "source": []
  },
  {
   "cell_type": "code",
   "execution_count": null,
   "metadata": {
    "collapsed": true,
    "deletable": true,
    "editable": true
   },
   "outputs": [],
   "source": []
  },
  {
   "cell_type": "code",
   "execution_count": null,
   "metadata": {
    "collapsed": true,
    "deletable": true,
    "editable": true
   },
   "outputs": [],
   "source": []
  },
  {
   "cell_type": "code",
   "execution_count": null,
   "metadata": {
    "collapsed": true,
    "deletable": true,
    "editable": true
   },
   "outputs": [],
   "source": []
  },
  {
   "cell_type": "code",
   "execution_count": null,
   "metadata": {
    "collapsed": true,
    "deletable": true,
    "editable": true
   },
   "outputs": [],
   "source": []
  },
  {
   "cell_type": "code",
   "execution_count": 19,
   "metadata": {
    "collapsed": false,
    "deletable": true,
    "editable": true
   },
   "outputs": [],
   "source": [
    "# Images try one cascade [NOT__IMP]\n",
    "\n",
    "\n",
    "haar=cv2.CascadeClassifier('/home/rishabh/Downloads/MLHackathon/Street-Sign-Detection/datafinal/cascade.xml')\n",
    "img=cv2.imread('7.jpg')\n",
    "height, width = img.shape[:2]\n",
    "img = img[30:height-30 :]\n",
    "signs=haar.detectMultiScale(img)\n",
    "if len(signs) == 0:\n",
    "    img_yuv = cv2.cvtColor(img, cv2.COLOR_BGR2YUV)\n",
    "    img_yuv[:,:,0] = cv2.equalizeHist(img_yuv[:,:,0])\n",
    "    img = cv2.cvtColor(img_yuv, cv2.COLOR_YUV2BGR)\n",
    "    signs = haar.detectMultiScale(img)\n",
    "if len(signs) == 0:\n",
    "    img_yuv = cv2.cvtColor(img, cv2.COLOR_BGR2YUV)\n",
    "    img_yuv[:,:,0] = cv2.equalizeHist(img_yuv[:,:,0])\n",
    "    img = cv2.cvtColor(img_yuv, cv2.COLOR_YUV2BGR)\n",
    "    signs = haar.detectMultiScale(img)\n",
    "\n",
    "if len(signs) == 0:\n",
    "    #kernel_sharpen_1 = np.array([[-1,-1,-1], [-1,9,-1], [-1,-1,-1]])\n",
    "    kernel_sharpen_3 = np.array([[-1,-1,-1,-1,-1],\n",
    "                             [-1,2,2,2,-1],\n",
    "                             [-1,2,8,2,-1],\n",
    "                             [-1,2,2,2,-1],\n",
    "                             [-1,-1,-1,-1,-1]]) / 8.0\n",
    "    img = cv2.filter2D(img, -1, kernel_sharpen_3)\n",
    "    signs = haar.detectMultiScale(img)\n",
    "#img = cv2.cvtColor(img, cv2.COLOR_BGR2GRAY)\n",
    "cv2.imshow('img', img)\n",
    "cv2.waitKey(0)\n",
    "cv2.destroyWindow('img')\n",
    "#img=cv2.resize(img,(400,250))"
   ]
  },
  {
   "cell_type": "code",
   "execution_count": 20,
   "metadata": {
    "collapsed": false,
    "deletable": true,
    "editable": true
   },
   "outputs": [],
   "source": [
    "signs=haar.detectMultiScale(img)"
   ]
  },
  {
   "cell_type": "code",
   "execution_count": 21,
   "metadata": {
    "collapsed": false,
    "deletable": true,
    "editable": true
   },
   "outputs": [
    {
     "data": {
      "text/plain": [
       "array([[1064,   50,   68,   68],\n",
       "       [ 938,  115,   60,   60]], dtype=int32)"
      ]
     },
     "execution_count": 21,
     "metadata": {},
     "output_type": "execute_result"
    }
   ],
   "source": [
    "signs"
   ]
  },
  {
   "cell_type": "code",
   "execution_count": 22,
   "metadata": {
    "collapsed": false,
    "deletable": true,
    "editable": true
   },
   "outputs": [],
   "source": [
    "for i in range(len(signs)):\n",
    "    crop = img[signs[i][1]:signs[i][1]+signs[i][3], signs[i][0]:signs[i][0]+signs[i][2]]\n",
    "    cv2.imshow('img', crop)\n",
    "    cv2.waitKey(0)\n",
    "    cv2.destroyWindow('img')"
   ]
  },
  {
   "cell_type": "code",
   "execution_count": 23,
   "metadata": {
    "collapsed": false,
    "deletable": true,
    "editable": true
   },
   "outputs": [],
   "source": [
    "#data"
   ]
  },
  {
   "cell_type": "code",
   "execution_count": 24,
   "metadata": {
    "collapsed": true,
    "deletable": true,
    "editable": true
   },
   "outputs": [],
   "source": [
    "# data50=data[data['Label']=='Speed Limit 50']\n",
    "#7,11,17,18,19,20,21,23,25,28,29,31,32,33,37"
   ]
  },
  {
   "cell_type": "code",
   "execution_count": 25,
   "metadata": {
    "collapsed": true,
    "deletable": true,
    "editable": true
   },
   "outputs": [],
   "source": [
    "# cnt=1\n",
    "# for i in data50['Img_Name']:\n",
    "#     img=cv2.imread('Train/'+i)\n",
    "#     cv2.imwrite('Train50/'+str(cnt)+'.jpg',img)\n",
    "#     cnt+=1"
   ]
  },
  {
   "cell_type": "code",
   "execution_count": 26,
   "metadata": {
    "collapsed": true,
    "deletable": true,
    "editable": true
   },
   "outputs": [],
   "source": [
    "haar=cv2.CascadeClassifier('/home/rishabh/Downloads/MLHackathon/Street-Sign-Detection/datafinal/cascade.xml')"
   ]
  },
  {
   "cell_type": "code",
   "execution_count": 27,
   "metadata": {
    "collapsed": true,
    "deletable": true,
    "editable": true
   },
   "outputs": [],
   "source": [
    "# for j in range(1,117):\n",
    "#     img=cv2.imread('Train/'+str(j)+'.jpg')\n",
    "#     signs=haar.detectMultiScale(img)\n",
    "#     for i in range(len(signs)):\n",
    "#         crop = img[signs[i][1]:signs[i][1]+signs[i][3], signs[i][0]:signs[i][0]+signs[i][2]]\n",
    "#         cv2.imwrite('Haarmain/'+str(j)+\"__\"+str(i)+'.jpg',crop)"
   ]
  },
  {
   "cell_type": "code",
   "execution_count": 29,
   "metadata": {
    "collapsed": true,
    "deletable": true,
    "editable": true
   },
   "outputs": [],
   "source": [
    "# for j in range(1,117):\n",
    "#     img=cv2.imread('Train50/'+str(j)+'.jpg')\n",
    "#     signs=haar2.detectMultiScale(img)\n",
    "#     for i in range(len(signs)):\n",
    "#         crop = img[signs[i][1]:signs[i][1]+signs[i][3], signs[i][0]:signs[i][0]+signs[i][2]]\n",
    "#         cv2.imwrite('Pro50/'+str(j)+\"__\"+str(i)+'.jpg',crop)"
   ]
  },
  {
   "cell_type": "code",
   "execution_count": 31,
   "metadata": {
    "collapsed": true,
    "deletable": true,
    "editable": true
   },
   "outputs": [],
   "source": [
    "# for j in range(1,117):\n",
    "#     img=cv2.imread('Train50/'+str(j)+'.jpg')\n",
    "#     signs=lbp.detectMultiScale(img)\n",
    "#     for i in range(len(signs)):\n",
    "#         crop = img[signs[i][1]:signs[i][1]+signs[i][3], signs[i][0]:signs[i][0]+signs[i][2]]\n",
    "#         cv2.imwrite('lbp50/'+str(j)+\"__\"+str(i)+'.jpg',crop)"
   ]
  },
  {
   "cell_type": "code",
   "execution_count": null,
   "metadata": {
    "collapsed": true,
    "deletable": true,
    "editable": true
   },
   "outputs": [],
   "source": []
  },
  {
   "cell_type": "code",
   "execution_count": null,
   "metadata": {
    "collapsed": true,
    "deletable": true,
    "editable": true
   },
   "outputs": [],
   "source": []
  },
  {
   "cell_type": "code",
   "execution_count": null,
   "metadata": {
    "collapsed": true,
    "deletable": true,
    "editable": true
   },
   "outputs": [],
   "source": []
  },
  {
   "cell_type": "code",
   "execution_count": null,
   "metadata": {
    "collapsed": true,
    "deletable": true,
    "editable": true
   },
   "outputs": [],
   "source": []
  },
  {
   "cell_type": "code",
   "execution_count": null,
   "metadata": {
    "collapsed": true,
    "deletable": true,
    "editable": true
   },
   "outputs": [],
   "source": []
  },
  {
   "cell_type": "code",
   "execution_count": 32,
   "metadata": {
    "collapsed": true,
    "deletable": true,
    "editable": true
   },
   "outputs": [],
   "source": [
    "# cnt=1\n",
    "# for i in data['Img_Name']:\n",
    "#     img=cv2.imread('Train/'+i)\n",
    "#     cv2.imwrite('TrainRenamed/'+str(cnt)+'.jpg',img)\n",
    "#     cnt+=1"
   ]
  },
  {
   "cell_type": "code",
   "execution_count": 33,
   "metadata": {
    "collapsed": false,
    "deletable": true,
    "editable": true
   },
   "outputs": [],
   "source": [
    "# img=cv2.imread('TrainRenamed/'+'285'+'.jpg')\n",
    "# height, width = img.shape[:2]\n",
    "# img = img[30:height-30 :]\n",
    "# cv2.imshow('img', img)\n",
    "# cv2.waitKey(0)\n",
    "# cv2.destroyWindow('img')\n",
    "# print height\n",
    "# print width\n"
   ]
  }
 ],
 "metadata": {
  "kernelspec": {
   "display_name": "Python [cv]",
   "language": "python",
   "name": "Python [cv]"
  },
  "language_info": {
   "codemirror_mode": {
    "name": "ipython",
    "version": 2
   },
   "file_extension": ".py",
   "mimetype": "text/x-python",
   "name": "python",
   "nbconvert_exporter": "python",
   "pygments_lexer": "ipython2",
   "version": "2.7.13"
  },
  "widgets": {
   "state": {},
   "version": "1.1.2"
  }
 },
 "nbformat": 4,
 "nbformat_minor": 2
}
